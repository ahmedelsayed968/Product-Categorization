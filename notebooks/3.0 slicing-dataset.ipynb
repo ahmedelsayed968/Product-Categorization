{
 "cells": [
  {
   "cell_type": "code",
   "execution_count": null,
   "metadata": {},
   "outputs": [],
   "source": [
    "import glob\n",
    "import pandas\n",
    "import os"
   ]
  },
  {
   "cell_type": "code",
   "execution_count": null,
   "metadata": {},
   "outputs": [],
   "source": [
    "os.listdir(\"../data/present/modelling/v1\")"
   ]
  },
  {
   "cell_type": "code",
   "execution_count": null,
   "metadata": {},
   "outputs": [],
   "source": [
    "CLASSES = [\"Fashion\", \"Electronics and Appliances\", \"sports & fitness\", \"accessories\"]\n",
    "base_path = \"../data/present/modelling/v1/\"\n",
    "class_paths = [os.path.join(base_path, _class) for _class in CLASSES]\n",
    "\n",
    "sub_images = {\n",
    "    class_name: os.listdir(path)[:200] for class_name, path in zip(CLASSES, class_paths)\n",
    "}"
   ]
  },
  {
   "cell_type": "code",
   "execution_count": null,
   "metadata": {},
   "outputs": [],
   "source": [
    "import shutil\n",
    "\n",
    "destiontion = \"../data/present/modelling/v2/\"\n",
    "for key, images in sub_images.items():\n",
    "    for image in images:\n",
    "        dst = os.path.join(destiontion, key)\n",
    "        if not os.path.exists(dst):\n",
    "            os.mkdir(dst)\n",
    "        shutil.copy(\n",
    "            src=os.path.join(base_path, key, image), dst=os.path.join(destiontion, key)\n",
    "        )"
   ]
  },
  {
   "cell_type": "code",
   "execution_count": null,
   "metadata": {},
   "outputs": [],
   "source": []
  }
 ],
 "metadata": {
  "kernelspec": {
   "display_name": ".venv",
   "language": "python",
   "name": "python3"
  },
  "language_info": {
   "codemirror_mode": {
    "name": "ipython",
    "version": 3
   },
   "file_extension": ".py",
   "mimetype": "text/x-python",
   "name": "python",
   "nbconvert_exporter": "python",
   "pygments_lexer": "ipython3",
   "version": "3.10.13"
  }
 },
 "nbformat": 4,
 "nbformat_minor": 2
}
