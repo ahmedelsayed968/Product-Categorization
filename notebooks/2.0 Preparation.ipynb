{
 "cells": [
  {
   "cell_type": "code",
   "execution_count": null,
   "id": "0",
   "metadata": {},
   "outputs": [],
   "source": [
    "import pandas as pd\n",
    "import glob\n",
    "from typing import List, Tuple, Union\n",
    "import os\n",
    "import sys\n",
    "\n",
    "sys.path.append(\"..\")\n",
    "from data.scripts.load import *"
   ]
  },
  {
   "cell_type": "code",
   "execution_count": null,
   "id": "1",
   "metadata": {},
   "outputs": [],
   "source": [
    "def filter_all_csv(path: str) -> Tuple[List[str], List[str]]:\n",
    "    files = glob.glob(path + \"/*.csv\")\n",
    "    file_names = [os.path.basename(p).split(\".\")[0] for p in files]\n",
    "    return files, file_names\n",
    "\n",
    "\n",
    "def merge_and_prepare_datesets(paths: List[str]) -> pd.DataFrame:\n",
    "\n",
    "    dfs = [pd.read_csv(path) for path in paths]\n",
    "    main_df = pd.concat(dfs, ignore_index=True, axis=0)\n",
    "    main_df = main_df.drop([main_df.columns[0]], axis=1)\n",
    "    main_df = main_df.dropna()\n",
    "    main_df = main_df.reset_index(drop=True)\n",
    "    main_df = main_df.drop_duplicates(\"image\")\n",
    "    return main_df"
   ]
  },
  {
   "cell_type": "code",
   "execution_count": null,
   "id": "2",
   "metadata": {},
   "outputs": [],
   "source": [
    "l1, name1 = filter_all_csv(\"../data/processed/v1/\")"
   ]
  },
  {
   "cell_type": "code",
   "execution_count": null,
   "id": "3",
   "metadata": {},
   "outputs": [],
   "source": [
    "df = merge_and_prepare_datesets(l1)"
   ]
  },
  {
   "cell_type": "code",
   "execution_count": null,
   "id": "4",
   "metadata": {},
   "outputs": [],
   "source": [
    "df.main_category.value_counts()."
   ]
  },
  {
   "cell_type": "code",
   "execution_count": null,
   "id": "5",
   "metadata": {},
   "outputs": [],
   "source": []
  },
  {
   "cell_type": "code",
   "execution_count": null,
   "id": "6",
   "metadata": {},
   "outputs": [],
   "source": [
    "product_mapper = {\n",
    "    (\n",
    "        \"women's clothing\",\n",
    "        \"men's clothing\",\n",
    "        \"kids' fashion\",\n",
    "        \"women's shoes\",\n",
    "        \"men's shoes\",\n",
    "    ): \"Fashion\",\n",
    "    (\n",
    "        \"home, kitchen, pets\",\n",
    "        \"pet supplies\",\n",
    "        \"grocery & gourmet foods\",\n",
    "        \"home & kitchen\",\n",
    "    ): \"Household Essentials\",\n",
    "    (\n",
    "        \"tv, audio & cameras\",\n",
    "        \"appliances\",\n",
    "        \"industrial supplies\",\n",
    "    ): \"Electronics and Appliances\",\n",
    "}\n",
    "\n",
    "\n",
    "def assign_label(category: str):\n",
    "    for categories, label in product_mapper.items():\n",
    "        if category.lower().strip() in [cat.lower().strip() for cat in categories]:\n",
    "            return label\n",
    "    return category"
   ]
  },
  {
   "cell_type": "code",
   "execution_count": null,
   "id": "7",
   "metadata": {},
   "outputs": [],
   "source": [
    "df[\"tag\"] = df[\"main_category\"].map(assign_label)"
   ]
  },
  {
   "cell_type": "code",
   "execution_count": null,
   "id": "8",
   "metadata": {},
   "outputs": [],
   "source": [
    "df"
   ]
  },
  {
   "cell_type": "code",
   "execution_count": null,
   "id": "9",
   "metadata": {},
   "outputs": [],
   "source": [
    "df.to_csv(\"../data/processed/v2/all-products.csv\")"
   ]
  },
  {
   "cell_type": "code",
   "execution_count": null,
   "id": "10",
   "metadata": {},
   "outputs": [],
   "source": []
  }
 ],
 "metadata": {
  "kernelspec": {
   "display_name": "Python 3 (ipykernel)",
   "language": "python",
   "name": "python3"
  },
  "language_info": {
   "codemirror_mode": {
    "name": "ipython",
    "version": 3
   },
   "file_extension": ".py",
   "mimetype": "text/x-python",
   "name": "python",
   "nbconvert_exporter": "python",
   "pygments_lexer": "ipython3",
   "version": "3.10.13"
  }
 },
 "nbformat": 4,
 "nbformat_minor": 5
}
